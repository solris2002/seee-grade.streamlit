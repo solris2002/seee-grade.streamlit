{
 "cells": [
  {
   "cell_type": "code",
   "execution_count": null,
   "id": "39fb34d4",
   "metadata": {},
   "outputs": [
    {
     "name": "stdout",
     "output_type": "stream",
     "text": [
      "✅ Đã lưu mô hình XGBoost cho từng group vào file\n"
     ]
    }
   ],
   "source": [
    "# Lưu mô hình XGBoost dự đoán Final CPA dựa trên GPA và TC_qua của từng học kỳ cho sinh viên cử nhân( 8 kỳ)\n",
    "from sklearn.model_selection import train_test_split\n",
    "import pandas as pd\n",
    "from sklearn.preprocessing import StandardScaler\n",
    "from xgboost import XGBRegressor\n",
    "import joblib\n",
    "from sklearn.metrics import mean_absolute_error\n",
    "# Đọc dữ liệu\n",
    "df = pd.read_excel('Data_clean/Data_GPA_CPA_final_8_ky.xlsx')\n",
    "\n",
    "# Các nhóm GPA, TC_qua theo từng học kỳ\n",
    "gpa_tc_groups = {\n",
    "    'GPA_TC_1': ['GPA_1', 'TC_qua_1'],\n",
    "    'GPA_TC_1_2': ['GPA_1', 'TC_qua_1', 'GPA_2', 'TC_qua_2'],\n",
    "    'GPA_TC_1_3': ['GPA_1', 'TC_qua_1', 'GPA_2', 'TC_qua_2', 'GPA_3', 'TC_qua_3'],\n",
    "    'GPA_TC_1_4': ['GPA_1', 'TC_qua_1', 'GPA_2', 'TC_qua_2', 'GPA_3', 'TC_qua_3', 'GPA_4', 'TC_qua_4'],\n",
    "    'GPA_TC_1_5': ['GPA_1', 'TC_qua_1', 'GPA_2', 'TC_qua_2', 'GPA_3', 'TC_qua_3', 'GPA_4', 'TC_qua_4', 'GPA_5', 'TC_qua_5'],\n",
    "    'GPA_TC_1_6': ['GPA_1', 'TC_qua_1', 'GPA_2', 'TC_qua_2', 'GPA_3', 'TC_qua_3', 'GPA_4', 'TC_qua_4', 'GPA_5', 'TC_qua_5', 'GPA_6', 'TC_qua_6'],\n",
    "}\n",
    "\n",
    "Best_XGBoost_Params = {'learning_rate': 0.1, 'max_depth': 3, 'n_estimators': 200, 'subsample': 0.8}\n",
    "\n",
    "# Dictionary chứa tất cả mô hình\n",
    "cpa_dict = {}\n",
    "\n",
    "for group_name, features in gpa_tc_groups.items():\n",
    "    X = df[features]\n",
    "    y = df['Final_CPA']\n",
    "    X_train, X_test, y_train, y_test = train_test_split(X, y, test_size=0.2, random_state=42)\n",
    "\n",
    "    model = XGBRegressor(**Best_XGBoost_Params, random_state=42)\n",
    "    model.fit(X_train, y_train)\n",
    "    y_pred = model.predict(X_test)\n",
    "    print(f\"{group_name}: MAE = {mean_absolute_error(y_test, y_pred):.3f}\")\n",
    "    cpa_dict[group_name] = model\n",
    "\n",
    "# Lưu toàn bộ dict mô hình vào file joblib\n",
    "joblib.dump(cpa_dict, 'models_streamlit/final_cpa_8_ki.joblib')\n",
    "print(\"✅ Đã lưu mô hình XGBoost cho từng group vào file\")"
   ]
  },
  {
   "cell_type": "code",
   "execution_count": null,
   "id": "6fcebff0",
   "metadata": {},
   "outputs": [
    {
     "name": "stdout",
     "output_type": "stream",
     "text": [
      "✅ Đã lưu mô hình XGBoost cho từng group vào file\n"
     ]
    }
   ],
   "source": [
    "# Lưu mô hình XGBoost dự đoán Final CPA dựa trên GPA và TC_qua của từng học kỳ cho sinh viên định hướng kỹ sư ( 10 kỳ )\n",
    "from sklearn.model_selection import train_test_split\n",
    "import pandas as pd\n",
    "from sklearn.preprocessing import StandardScaler\n",
    "from xgboost import XGBRegressor\n",
    "import joblib\n",
    "from sklearn.metrics import mean_absolute_error\n",
    "# Đọc dữ liệu\n",
    "df = pd.read_excel('Data_clean/Data_GPA_CPA_final_10_ky.xlsx')\n",
    "\n",
    "# Các nhóm GPA, TC_qua theo từng học kỳ\n",
    "gpa_tc_groups = {\n",
    "    'GPA_TC_1': ['GPA_1', 'TC_qua_1'],\n",
    "    'GPA_TC_1_2': ['GPA_1', 'TC_qua_1', 'GPA_2', 'TC_qua_2'],\n",
    "    'GPA_TC_1_3': ['GPA_1', 'TC_qua_1', 'GPA_2', 'TC_qua_2', 'GPA_3', 'TC_qua_3'],\n",
    "    'GPA_TC_1_4': ['GPA_1', 'TC_qua_1', 'GPA_2', 'TC_qua_2', 'GPA_3', 'TC_qua_3', 'GPA_4', 'TC_qua_4'],\n",
    "    'GPA_TC_1_5': ['GPA_1', 'TC_qua_1', 'GPA_2', 'TC_qua_2', 'GPA_3', 'TC_qua_3', 'GPA_4', 'TC_qua_4', 'GPA_5', 'TC_qua_5'],\n",
    "    'GPA_TC_1_6': ['GPA_1', 'TC_qua_1', 'GPA_2', 'TC_qua_2', 'GPA_3', 'TC_qua_3', 'GPA_4', 'TC_qua_4', 'GPA_5', 'TC_qua_5', 'GPA_6', 'TC_qua_6'],\n",
    "    'GPA_TC_1_7': ['GPA_1', 'TC_qua_1', 'GPA_2', 'TC_qua_2', 'GPA_3', 'TC_qua_3', 'GPA_4', 'TC_qua_4', 'GPA_5', 'TC_qua_5', 'GPA_6', 'TC_qua_6', 'GPA_7', 'TC_qua_7'],\n",
    "    'GPA_TC_1_8': ['GPA_1', 'TC_qua_1', 'GPA_2', 'TC_qua_2', 'GPA_3', 'TC_qua_3', 'GPA_4', 'TC_qua_4', 'GPA_5', 'TC_qua_5', 'GPA_6', 'TC_qua_6', 'GPA_7', 'TC_qua_7', 'GPA_8', 'TC_qua_8']\n",
    "}\n",
    "\n",
    "Best_XGBoost_Params = {'learning_rate': 0.1, 'max_depth': 3, 'n_estimators': 200, 'subsample': 0.8}\n",
    "\n",
    "# Dictionary chứa tất cả mô hình\n",
    "cpa_dict = {}\n",
    "\n",
    "for group_name, features in gpa_tc_groups.items():\n",
    "    X = df[features]\n",
    "    y = df['Final_CPA']\n",
    "    X_train, X_test, y_train, y_test = train_test_split(X, y, test_size=0.2, random_state=42)\n",
    "    model = XGBRegressor(**Best_XGBoost_Params, random_state=42)\n",
    "    model.fit(X_train, y_train)\n",
    "    y_pred = model.predict(X_test)\n",
    "    print(f\"{group_name}: MAE = {mean_absolute_error(y_test, y_pred):.3f}\")\n",
    "    cpa_dict[group_name] = model\n",
    "\n",
    "# Lưu toàn bộ dict mô hình vào file joblib\n",
    "joblib.dump(cpa_dict, 'models_streamlit/final_cpa_10_ki.joblib')\n",
    "print(\"✅ Đã lưu mô hình XGBoost cho từng group vào file\")"
   ]
  },
  {
   "cell_type": "code",
   "execution_count": 9,
   "id": "2c651794",
   "metadata": {},
   "outputs": [
    {
     "name": "stdout",
     "output_type": "stream",
     "text": [
      "GPA_2: MAE = 0.443\n",
      "GPA_3: MAE = 0.335\n",
      "GPA_4: MAE = 0.374\n",
      "GPA_5: MAE = 0.350\n",
      "GPA_6: MAE = 0.304\n",
      "✅ Đã lưu mô hình RandomForestRegressor cho từng group vào file\n"
     ]
    }
   ],
   "source": [
    "# Lưu mô hình RandomForestRegressor dự đoán Next CPA dựa trên GPA và TC_qua của từng học kỳ cho sinh viên định hướng kỹ sư ( 10 kỳ )\n",
    "from sklearn.model_selection import train_test_split\n",
    "import pandas as pd\n",
    "from sklearn.ensemble import RandomForestRegressor\n",
    "import joblib\n",
    "from sklearn.metrics import mean_absolute_error\n",
    "from xgboost import XGBRegressor\n",
    "# Đọc dữ liệu\n",
    "df = pd.read_excel('Data_clean/Data_GPA_CPA_final_8_ky.xlsx')\n",
    "\n",
    "# Các nhóm GPA, TC_qua theo từng học kỳ\n",
    "gpa_tc_groups = {\n",
    "    'GPA_2': ['GPA_1', 'TC_qua_1'],\n",
    "    'GPA_3': ['GPA_1', 'TC_qua_1', 'GPA_2', 'TC_qua_2'],\n",
    "    'GPA_4': ['GPA_1', 'TC_qua_1', 'GPA_2', 'TC_qua_2', 'GPA_3', 'TC_qua_3'],\n",
    "    'GPA_5': ['GPA_1', 'TC_qua_1', 'GPA_2', 'TC_qua_2', 'GPA_3', 'TC_qua_3', 'GPA_4', 'TC_qua_4'],\n",
    "    'GPA_6': ['GPA_1', 'TC_qua_1', 'GPA_2', 'TC_qua_2', 'GPA_3', 'TC_qua_3', 'GPA_4', 'TC_qua_4', 'GPA_5', 'TC_qua_5']\n",
    "    }\n",
    "\n",
    "Best_RF_Params = {'max_depth': 10, 'max_features': 'sqrt', 'min_samples_leaf': 1, 'n_estimators': 200}\n",
    "Best_XGBoost_Params = {'learning_rate': 0.1, 'max_depth': 3, 'n_estimators': 200, 'subsample': 0.8}\n",
    "\n",
    "# Dictionary chứa tất cả mô hình\n",
    "gpa_dict = {}\n",
    "\n",
    "for target, features in gpa_tc_groups.items():\n",
    "    X = df[features]\n",
    "    y = df[target]\n",
    "    X_train, X_test, y_train, y_test = train_test_split(X, y, test_size=0.2, random_state=42)\n",
    "\n",
    "    model = RandomForestRegressor(**Best_RF_Params ,random_state=42)\n",
    "    model.fit(X_train, y_train)\n",
    "    y_pred = model.predict(X_test)\n",
    "    print(f\"{target}: MAE = {mean_absolute_error(y_test, y_pred):.3f}\")\n",
    "    gpa_dict[target] = model\n",
    "    # model = XGBRegressor(**Best_XGBoost_Params, random_state=42)\n",
    "    # model.fit(X_train, y_train)\n",
    "    # y_pred = model.predict(X_test)\n",
    "    # print(f\"{target}: MAE = {mean_absolute_error(y_test, y_pred):.3f}\")\n",
    "    # gpa_dict[target] = model\n",
    "\n",
    "# Lưu toàn bộ dict mô hình vào file joblib\n",
    "joblib.dump(gpa_dict, 'models_streamlit/next_gpa_8_ki.joblib', compress=3)\n",
    "print(\"✅ Đã lưu mô hình RandomForestRegressor cho từng group vào file\")"
   ]
  },
  {
   "cell_type": "code",
   "execution_count": 10,
   "id": "caee232c",
   "metadata": {},
   "outputs": [
    {
     "name": "stdout",
     "output_type": "stream",
     "text": [
      "GPA_2: MAE = 0.509\n",
      "GPA_3: MAE = 0.356\n",
      "GPA_4: MAE = 0.358\n",
      "GPA_5: MAE = 0.374\n",
      "GPA_6: MAE = 0.329\n",
      "GPA_7: MAE = 0.290\n",
      "GPA_8: MAE = 0.234\n",
      "✅ Đã lưu mô hình RandomForestRegressor cho từng group vào file\n"
     ]
    }
   ],
   "source": [
    "# Lưu mô hình RandomForestRegressor dự đoán Next GPA dựa trên GPA và TC_qua của từng học kỳ cho sinh viên định hướng kỹ sư ( 10 kỳ )\n",
    "from sklearn.model_selection import train_test_split\n",
    "import pandas as pd\n",
    "from sklearn.ensemble import RandomForestRegressor\n",
    "import joblib\n",
    "# Đọc dữ liệu\n",
    "df = pd.read_excel('Data_clean/Data_GPA_CPA_final_10_ky.xlsx')\n",
    "\n",
    "# Các nhóm GPA, TC_qua theo từng học kỳ\n",
    "gpa_tc_groups = {\n",
    "    'GPA_2': ['GPA_1', 'TC_qua_1'],\n",
    "    'GPA_3': ['GPA_1', 'TC_qua_1', 'GPA_2', 'TC_qua_2'],\n",
    "    'GPA_4': ['GPA_1', 'TC_qua_1', 'GPA_2', 'TC_qua_2', 'GPA_3', 'TC_qua_3'],\n",
    "    'GPA_5': ['GPA_1', 'TC_qua_1', 'GPA_2', 'TC_qua_2', 'GPA_3', 'TC_qua_3', 'GPA_4', 'TC_qua_4'],\n",
    "    'GPA_6': ['GPA_1', 'TC_qua_1', 'GPA_2', 'TC_qua_2', 'GPA_3', 'TC_qua_3', 'GPA_4', 'TC_qua_4', 'GPA_5', 'TC_qua_5'],\n",
    "    'GPA_7': ['GPA_1', 'TC_qua_1', 'GPA_2', 'TC_qua_2', 'GPA_3', 'TC_qua_3', 'GPA_4', 'TC_qua_4', 'GPA_5', 'TC_qua_5', 'GPA_6', 'TC_qua_6'],\n",
    "    'GPA_8': ['GPA_1', 'TC_qua_1', 'GPA_2', 'TC_qua_2', 'GPA_3', 'TC_qua_3', 'GPA_4', 'TC_qua_4', 'GPA_5', 'TC_qua_5', 'GPA_6', 'TC_qua_6', 'GPA_7', 'TC_qua_7']\n",
    "    }\n",
    "\n",
    "Best_RF_Params = {'max_depth': 10, 'max_features': 'sqrt', 'min_samples_leaf': 1, 'n_estimators': 200}\n",
    "\n",
    "# Dictionary chứa tất cả mô hình\n",
    "gpa_dict = {}\n",
    "\n",
    "for target, features in gpa_tc_groups.items():\n",
    "    X = df[features]\n",
    "    y = df[target]\n",
    "    X_train, X_test, y_train, y_test = train_test_split(X, y, test_size=0.2, random_state=42)\n",
    "    model = RandomForestRegressor(**Best_RF_Params ,random_state=42)\n",
    "    model.fit(X_train, y_train)\n",
    "    y_pred = model.predict(X_test)\n",
    "    print(f\"{target}: MAE = {mean_absolute_error(y_test, y_pred):.3f}\")\n",
    "    gpa_dict[target] = model\n",
    "    # model = XGBRegressor(**Best_XGBoost_Params, random_state=42)\n",
    "    # model.fit(X_train, y_train)\n",
    "    # y_pred = model.predict(X_test)\n",
    "    # print(f\"{target}: MAE = {mean_absolute_error(y_test, y_pred):.3f}\")\n",
    "    # gpa_dict[target] = model\n",
    "# Lưu toàn bộ dict mô hình vào file joblib\n",
    "joblib.dump(gpa_dict, 'models_streamlit/next_gpa_10_ki.joblib', compress=3)\n",
    "print(\"✅ Đã lưu mô hình RandomForestRegressor cho từng group vào file\")"
   ]
  }
 ],
 "metadata": {
  "kernelspec": {
   "display_name": "Python 3",
   "language": "python",
   "name": "python3"
  },
  "language_info": {
   "codemirror_mode": {
    "name": "ipython",
    "version": 3
   },
   "file_extension": ".py",
   "mimetype": "text/x-python",
   "name": "python",
   "nbconvert_exporter": "python",
   "pygments_lexer": "ipython3",
   "version": "3.10.11"
  }
 },
 "nbformat": 4,
 "nbformat_minor": 5
}
